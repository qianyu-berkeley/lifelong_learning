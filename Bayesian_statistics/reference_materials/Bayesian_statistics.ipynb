{
 "cells": [
  {
   "cell_type": "markdown",
   "metadata": {},
   "source": [
    "# Bayesian\n",
    "\n",
    "## Bayesian Theory Intro"
   ]
  },
  {
   "cell_type": "markdown",
   "metadata": {},
   "source": [
    "### Bayes Rule\n",
    "\n",
    "* Probability distribution:\n",
    "  * Marginal distributions: $p(A), p(B)$\n",
    "    $$p(A) = \\sum_{B}p(A, B)$$\n",
    "    $$p(B) = \\sum_{A}p(A, B)$$\n",
    "  * Join distributions: $p(A, B)$\n",
    "  * Conditional disbribution: $P(A|B), p(B|A)$\n",
    "    $$p(A|B)=\\frac{p(A,B)}{p(B)} == \\frac{p(A,B)}{\\sum_{A}p(A,B)}$$\n",
    "    $$p(B|A)=\\frac{p(A,B)}{p(A)} == \\frac{p(A,B)}{\\sum_{B}p(A,B)}$$\n",
    "  * Derive Bayes Rule: Conditional probability is equal to join distribution divided by total distribution of prior\n",
    "    $$p(A, B) = p(A|B)p(B) = p(B|A)p(A)$$\n",
    "    $$p(B|A) = \\frac{p(A, B)}{p(A)} = \\frac{p(A|B)p(B)}{\\sum_{B}P(A,B)}$$\n",
    "    $$p(A|B) = \\frac{p(A, B)}{p(B)} = \\frac{p(A|B)p(B)}{\\sum_{A}P(A,B)}$$\n",
    "  * For continuous distribution, we would use integral instead of sum\n",
    "* Gambler's Fallacy\n",
    "  * If a randome event is independent, the past will not impact future probability. The future chance is always the same regardless of past winning of lossing\n",
    "* The Monty Hall Problem\n"
   ]
  },
  {
   "cell_type": "markdown",
   "metadata": {},
   "source": [
    "### Maxmum Likelihood Estimation\n",
    "\n",
    "* Giving a set of data, fit the model to the data with model parameters that achieve the best fit.\n",
    "* Bernoulli distribution (coil flip)\n",
    "  * Discrete random variable\n",
    "  * PMF (Probability mass function): x can be either 0 or 1\n",
    "    $$p(x) = \\theta^x(1 - \\theta)^{1-x}$$\n",
    "    $$p(x = 1) = \\theta$$\n",
    "    $$p(x = 0) = 1 - \\theta$$\n",
    "  * Maximum Likelyhood function (coin flip many times)\n",
    "    * With $data = \\{X1, X2, ... X_n\\}$\n",
    "    * liklihood is $L(\\theta) = p(data | \\theta) = \\prod^N_{i}p(x_i|\\theta) = \\prod^n_{i}\\theta^{x_i}(1-\\theta)^{1-x_i}$\n",
    "      * x is either 0 or 1, $\\theta$ is the variable \n",
    "    * We are trying to solve $\\theta$ so we can maximizing the $L$ likelihood\n",
    "    * $\\frac{dL}{d\\theta} = 0\\ or\\ \\hat{\\theta} = argmaxL(\\theta)$\n",
    "    * Bernoulli likihood is not the same is binomial distribution which consider order of events\n"
   ]
  },
  {
   "cell_type": "markdown",
   "metadata": {},
   "source": [
    "### Bayesian Machine Learning\n",
    "\n",
    "* The Bayesian Approach\n",
    "  * `Everything is a random variable`\n",
    "  * e.g. Gaussian distribution with $\\mu$ and $\\sigma$\n",
    "    * Frequentist approach treat $\\mu$ and $\\sigma$ as a number calculated from the samples\n",
    "    * Bayesian appraoch treat $\\mu$ and $\\sigma$ as a random variable, we try to find $p(\\mu, \\sigma^2 | X)$ (find distribution instead of number)\n",
    "* In the machine learning context\n",
    "  * e.g. Lineary Regression $y = W^Tx$, instead of finding a $W$, we try to solve for the distribution of $w$, if x, y is training data, we solve for $p(W | x, y)$\n",
    "* Bayesign Network\n",
    "  * Bayes nets are a general model\n",
    "  * We can model specific dependencies based on your understanding of the system\n",
    "    * e.g. LDA (Latent Dirichlet Allocation) is a bayes network model"
   ]
  },
  {
   "cell_type": "markdown",
   "metadata": {},
   "source": [
    "## Frequentist Statistical Testing\n",
    "\n",
    "### Confident Interval\n",
    "\n",
    "* Intuition: things that affect our confidence in an estimate\n",
    "    * e.g. maximum Likelihood Estimate of Mean $\\hat{\\mu} = \\bar{x} = \\frac{1}{N}\\sum^N_{i-1}x_i$ is the sample mean\n",
    "    * how spread out the samples are\n",
    "    * How many samples there are\n",
    "* Z-confidence interval\n",
    "    $$Data: \\{x_1, ..., x_N\\}$$\n",
    "    $$Sample\\ Mean: \\hat{\\mu} = \\bar{x} = \\frac{1}{N}\\sum^N_{i-1}x_i$$\n",
    "    $$Sample\\ variance: \\hat{\\sigma}^2 = \\frac{1}{N-1}\\sum^N_{i-1}(x_i - \\bar{x})^2$$\n",
    "    * $\\hat{\\sigma}$ is the sample standard deviation\n",
    "    * $95\\%\\ (\\gamma)\\ CI = [\\hat{\\mu} - 1.96\\frac{\\hat{\\sigma}}{\\sqrt{N}},\\hat{\\mu} + 1.96\\frac{\\hat{\\sigma}}{\\sqrt{N}}]$\n",
    "    * $\\sigma$ describe spread (position proportional) more spread out less confident. sample size N, more samples more confident (inversely propotional)\n",
    "\n",
    "* If Data is normally distributed\n",
    "    * Function of random variables is also a random variable of the same distribution (e.g. sum), we can use this property find the distribution of mean ($\\hat{\\mu}$) and variance {$\\hat{\\sigma}^2$)\n",
    "    $$E(\\hat{\\mu}) = E(\\frac{1}{N}\\sum^N_{i-1}x_i) = \\frac{1}{N}E(X_1) + \\frac{1}{N}E(X_2) + ... = \\frac{1}{N}\\mu + \\frac{1}{N}\\mu+ ... = \\mu$$\n",
    "    $$var(\\hat{\\mu}) = var(\\frac{1}{N}\\sum^N_{i-1}x_i) = E[(\\frac{1}{N}\\sum^N_{i-1}x_i - \\mu)^2] = \\frac{\\sigma^2}{N}$$\n",
    "    $$\\hat{\\mu} \\sim N(\\mu, \\frac{\\sigma^2}{N})$$\n",
    "    * when N is larger, variance of estimate is smaller (sample size)\n",
    "    * when $\\sigma$ is larger, variance of estimate is larger (spread)\n",
    "    * Given $$Z = N(0, 1)$$, we can use pdf to calculate the area under the curve, to get Z value on the x axis based on CI (e.g. 95%)\n",
    "    * area under the curve is 2.5% = 0.025 => $Z_{left} = -1.96$ \n",
    "    * area under the curve is 97.5% = 0.975 => $Z_{right} = +1.96$ \n",
    "    * We can apply standardization to transform a RV t standard normal by subtract $\\mu$ divided by $\\sigma$\n",
    "    * We can use $\\mu$ and $\\sigma$ to calculate CI with $95\\%\\ (\\gamma)\\ CI = [\\hat{\\mu} - 1.96\\frac{\\hat{\\sigma}}{\\sqrt{N}},\\hat{\\mu} + 1.96\\frac{\\hat{\\sigma}}{\\sqrt{N}}]$ if we want to use 95% CI\n",
    "    * 95% is not a probablility but frequency of 95% of time. We estimate $\\sigma = \\frac{\\sigma_{sample}}{N - 1}$\n",
    "* In practice, we use CLT to estimate other distribution to Normali distbution so we calcluate CI use the same above approach\n",
    "    * e.g Bernoulli to normal: $\\hat{p} = N(p, \\frac{p(1-p)}{N})$\n",
    "* T-distrubtion, a better estimation than Z when sample size is small\n",
    "    $$t = \\frac{Z}{\\sqrt{V/v}} \\sim t_v$$\n",
    "    * $V$ is chi-square disbribution, $v$ is degree of freedom = N-1"
   ]
  },
  {
   "cell_type": "code",
   "execution_count": 64,
   "metadata": {},
   "outputs": [],
   "source": [
    "import numpy as np\n",
    "from scipy.stats import norm, t\n",
    "import pandas as pd\n",
    "import seaborn as sns\n",
    "np.random.seed(1)"
   ]
  },
  {
   "cell_type": "code",
   "execution_count": 8,
   "metadata": {},
   "outputs": [],
   "source": [
    "N = 1000\n",
    "mu = 5\n",
    "sigma = 2\n",
    "# create random samples by apply reverse of standardization\n",
    "X = np.random.randn(N)*sigma + mu "
   ]
  },
  {
   "cell_type": "markdown",
   "metadata": {},
   "source": [
    "In standard statistical practice, for `np.std` to set `ddof=1` provides an unbiased estimator of the variance of the infinite population whereas `ddof=0` provides a maximum likelihood estimate of the variance for normally distributed variables. "
   ]
  },
  {
   "cell_type": "code",
   "execution_count": 10,
   "metadata": {},
   "outputs": [
    {
     "name": "stdout",
     "output_type": "stream",
     "text": [
      "5.054650886789156 4.926904581440878 5.182397192137435\n"
     ]
    }
   ],
   "source": [
    "# Z confidence interval\n",
    "mu_hat = np.mean(X)\n",
    "sigma_hat = np.std(X, ddof=1) \n",
    "z_left = norm.ppf(0.025)\n",
    "z_right = norm.ppf(0.975)\n",
    "lower = mu_hat + z_left*sigma_hat/np.sqrt(N)\n",
    "upper = mu_hat + z_right*sigma_hat/np.sqrt(N)\n",
    "print(mu_hat, lower, upper)"
   ]
  },
  {
   "cell_type": "code",
   "execution_count": 12,
   "metadata": {},
   "outputs": [
    {
     "name": "stdout",
     "output_type": "stream",
     "text": [
      "5.054650886789156 4.926749622547115 5.182552151031198\n"
     ]
    }
   ],
   "source": [
    "# t confidence interval\n",
    "mu_hat = np.mean(X)\n",
    "sigma_hat = np.std(X, ddof=1) \n",
    "t_left = t.ppf(0.025, df=N-1)\n",
    "t_right = t.ppf(0.975, df=N-1)\n",
    "lower = mu_hat + t_left*sigma_hat/np.sqrt(N)\n",
    "upper = mu_hat + t_right*sigma_hat/np.sqrt(N)\n",
    "print(mu_hat, lower, upper)"
   ]
  },
  {
   "cell_type": "code",
   "execution_count": 14,
   "metadata": {},
   "outputs": [],
   "source": [
    "def experiment():\n",
    "    X = np.random.randn(N)*sigma + mu\n",
    "    mu_hat = np.mean(X)\n",
    "    sigma_hat = np.std(X, ddof=1) \n",
    "    t_left = t.ppf(0.025, df=N-1)\n",
    "    t_right = t.ppf(0.975, df=N-1)\n",
    "    lower = mu_hat + t_left*sigma_hat/np.sqrt(N)\n",
    "    upper = mu_hat + t_right*sigma_hat/np.sqrt(N)\n",
    "    return mu > lower and mu < upper\n",
    "    \n",
    "def sim_experiment(M):\n",
    "    results = [experiment() for _ in range(M)]\n",
    "    return np.mean(results)"
   ]
  },
  {
   "cell_type": "code",
   "execution_count": 15,
   "metadata": {},
   "outputs": [
    {
     "data": {
      "text/plain": [
       "0.9506"
      ]
     },
     "execution_count": 15,
     "metadata": {},
     "output_type": "execute_result"
    }
   ],
   "source": [
    "sim_experiment(10000)"
   ]
  },
  {
   "cell_type": "markdown",
   "metadata": {},
   "source": [
    "### Statistical Significant\n",
    "\n",
    "* Cannot just compare averages (effect size) to fill confident\n",
    "    * num of sample matters\n",
    "    * variance of samples\n",
    "\n",
    "### Hypothesis Testing (Frequetist Approach)\n",
    "\n",
    "* 2 groups of data (a.k.a 2 sample test)\n",
    "* 1 groups of data (a.k.a 1 sample test)\n",
    "* Hpyotehsis: ($H_0$ Null, $H_1$ Alternative)\n",
    "    $$H_0: \\mu_1 = \\mu_2$$\n",
    "    $$H_1: \\mu_1 \\neq \\mu_2$$ \n",
    "    * 2 sided: e.g. $H_1: \\mu_1 \\neq \\mu_2$\n",
    "    * 1 sided: e.g. $H_1: \\mu_1 > \\mu_2$\n",
    "    \n",
    "### P-value\n",
    "* Interpretation: the probability of observation a result as streme or more estreme than what was observed assuming the null hypothesis is true\n",
    "* significant level (a significant threshold for max allowed probability of false alarm (a.k.a, FP, type I error)\n",
    "    * if p-value < 5%, we declare the result is statistically significant, in other words, the probabiliyt of get false alarm, type I error, false positive is 5%, and we can reject the null hypothesis and result is statistically significant\n",
    "    * if p-value > 5%, we fail to reoject null hypothesis, it does not equal to we accept the null hypothesis. If we reject tne null hypothesis also does not imply we accept alternatively hypothesis. Because we are describe the given sample which is not equal to the actual facts\n",
    "\n",
    "### Z-Test\n",
    "\n",
    "* 1 sample Z-test: rewrite null hypothesis based on Z statistics:\n",
    "    $$ H_0: z = \\frac{\\hat{\\mu} - \\mu_0}{\\sigma/\\sqrt{N}} \\sim N(0, 1)$$\n",
    "    * if $H_0$ is true, then z will faill in a standard normal disbrbution 95% CI area under the curve\n",
    "    * rejecting the null means z is very unlikely faill in, or z > +1.96 or z < -1.96\n",
    "* 2 sample Z-test:\n",
    "    $$H_0: \\mu_1 = \\mu_2$$\n",
    "    $$H_1: \\mu_1 \\neq \\mu_2$$\n",
    "    * rewrite hypothesis $y=\\mu_1 - \\mu_2$\n",
    "    $$H_0: y = 0$$\n",
    "    $$H_1: y \\neq 0$$\n",
    "    * rewrite \n",
    "    $$H_0: \\hat{y} \\sim N(0, \\sigma^2_{\\hat{y}})$$ or\n",
    "    $$H_0: \\hat{y} \\sim N(\\mu_0, \\sigma^2_{\\hat{y}})$$\n",
    "    $$H_1: y \\neq 0$$\n",
    "    * to find variance or $\\sigma_{\\hat{y}}$\n",
    "    $$var(\\hat{y}) = \\frac{\\sigma^2_1}{N_1}+\\frac{\\sigma^2_2}{N_2}$$\n",
    "    $$Z = \\frac{\\hat{y} - \\mu_0}{\\sigma_{\\hat{y}}} = \\frac{\\hat{y} - \\mu_0}{\\sqrt{\\frac{\\sigma^2_1}{N_1}+\\frac{\\sigma^2_2}{N_2}}}$$\n",
    "    $$ p = p_{left} + p_{right}$$"
   ]
  },
  {
   "cell_type": "code",
   "execution_count": 71,
   "metadata": {},
   "outputs": [],
   "source": [
    "import numpy as np\n",
    "from scipy.stats import norm\n",
    "from statsmodels.stats.weightstats import ztest\n",
    "import matplotlib.pyplot as plt\n",
    "np.random.seed(0)"
   ]
  },
  {
   "cell_type": "code",
   "execution_count": 30,
   "metadata": {},
   "outputs": [],
   "source": [
    "N = 1000\n",
    "mu = 0.2\n",
    "sigma = 1\n",
    "X = np.random.randn(N)*sigma + mu"
   ]
  },
  {
   "cell_type": "code",
   "execution_count": 31,
   "metadata": {},
   "outputs": [
    {
     "data": {
      "text/plain": [
       "(4.955218787152404, 7.22489458805533e-07)"
      ]
     },
     "execution_count": 31,
     "metadata": {},
     "output_type": "execute_result"
    }
   ],
   "source": [
    "# two-sided test with build-in function(compare to 0 default)\n",
    "ztest(X)"
   ]
  },
  {
   "cell_type": "code",
   "execution_count": 32,
   "metadata": {},
   "outputs": [
    {
     "data": {
      "text/plain": [
       "(4.955218787152404, 7.22489458754939e-07)"
      ]
     },
     "execution_count": 32,
     "metadata": {},
     "output_type": "execute_result"
    }
   ],
   "source": [
    "# two-sided test manual\n",
    "mu_hat = X.mean()\n",
    "sigma_hat = X.std(ddof=1)\n",
    "z = mu_hat / (sigma_hat/np.sqrt(N)) # out mu0 = 0\n",
    "p_right = 1 - norm.cdf(np.abs(z))\n",
    "p_left = norm.cdf(-np.abs(z))\n",
    "p = p_right + p_left\n",
    "z, p"
   ]
  },
  {
   "cell_type": "markdown",
   "metadata": {},
   "source": [
    "We can use `norm.sf` (survival function) instead of `1 - norm.cdf` for more accurate value"
   ]
  },
  {
   "cell_type": "code",
   "execution_count": 33,
   "metadata": {},
   "outputs": [
    {
     "data": {
      "text/plain": [
       "(4.955218787152404, 3.612447294027665e-07)"
      ]
     },
     "execution_count": 33,
     "metadata": {},
     "output_type": "execute_result"
    }
   ],
   "source": [
    "# one-sided test with build-in function\n",
    "# half p-value of two-sided test\n",
    "ztest(X, alternative='larger')"
   ]
  },
  {
   "cell_type": "code",
   "execution_count": 34,
   "metadata": {},
   "outputs": [
    {
     "data": {
      "text/plain": [
       "(4.955218787152404, 3.6124472935217256e-07)"
      ]
     },
     "execution_count": 34,
     "metadata": {},
     "output_type": "execute_result"
    }
   ],
   "source": [
    "# one-sited test manual\n",
    "mu_hat = X.mean()\n",
    "sigma_hat = X.std(ddof=1)\n",
    "z = mu_hat / (sigma_hat/np.sqrt(N))\n",
    "p = 1-norm.cdf(np.abs(z))\n",
    "z, p"
   ]
  },
  {
   "cell_type": "code",
   "execution_count": 36,
   "metadata": {},
   "outputs": [
    {
     "data": {
      "text/plain": [
       "(-1.4492187904420355, 0.1472764916107175)"
      ]
     },
     "execution_count": 36,
     "metadata": {},
     "output_type": "execute_result"
    }
   ],
   "source": [
    "# test null under different different value using build-in function\n",
    "# Case fail to reject null\n",
    "mu0 = 0.2\n",
    "ztest(X, value=mu0)"
   ]
  },
  {
   "cell_type": "code",
   "execution_count": 37,
   "metadata": {},
   "outputs": [
    {
     "data": {
      "text/plain": [
       "(-1.4492187904420355, 0.14727649161071749)"
      ]
     },
     "execution_count": 37,
     "metadata": {},
     "output_type": "execute_result"
    }
   ],
   "source": [
    "# test null under different different value\n",
    "# Case fail to reject null\n",
    "mu_hat = X.mean()\n",
    "sigma_hat = X.std(ddof=1)\n",
    "z = (mu_hat - mu0)/ (sigma_hat/np.sqrt(N)) # out mu0 = 0\n",
    "p_right = 1 - norm.cdf(np.abs(z))\n",
    "p_left = norm.cdf(-np.abs(z))\n",
    "p = p_right + p_left\n",
    "z, p"
   ]
  },
  {
   "cell_type": "code",
   "execution_count": 56,
   "metadata": {},
   "outputs": [],
   "source": [
    "# two-sample test\n",
    "N0 = 100\n",
    "mu0 = 0.2\n",
    "sigma0 = 1\n",
    "X0 = np.random.randn(N0)*sigma0 + mu0\n",
    "\n",
    "N1 = 100\n",
    "mu1 = 0.5\n",
    "sigma1 = 1\n",
    "X1 = np.random.randn(N1)*sigma1 + mu1"
   ]
  },
  {
   "cell_type": "code",
   "execution_count": 57,
   "metadata": {},
   "outputs": [
    {
     "data": {
      "text/plain": [
       "(-1.9039831082750844, 0.056912384145799626)"
      ]
     },
     "execution_count": 57,
     "metadata": {},
     "output_type": "execute_result"
    }
   ],
   "source": [
    "ztest(X0, X1)"
   ]
  },
  {
   "cell_type": "code",
   "execution_count": 58,
   "metadata": {},
   "outputs": [
    {
     "data": {
      "text/plain": [
       "(1.9039831082750844, 0.05691238414579966)"
      ]
     },
     "execution_count": 58,
     "metadata": {},
     "output_type": "execute_result"
    }
   ],
   "source": [
    "# two-sample test\n",
    "mu_hat0 = X0.mean()\n",
    "mu_hat1 = X1.mean()\n",
    "var_hat0 = X0.var(ddof=1)\n",
    "var_hat1 = X1.var(ddof=1)\n",
    "z = (mu_hat1 - mu_hat0)/np.sqrt(var_hat0/N0 + var_hat1/N1)\n",
    "p_right = 1 - norm.cdf(np.abs(z))\n",
    "p_left = norm.cdf(-np.abs(z))\n",
    "p = p_left + p_right\n",
    "z, p"
   ]
  },
  {
   "cell_type": "code",
   "execution_count": 61,
   "metadata": {},
   "outputs": [
    {
     "name": "stdout",
     "output_type": "stream",
     "text": [
      "0.0528\n"
     ]
    }
   ],
   "source": [
    "# Intuition of frequentist statistics\n",
    "# Simulation of reject null hypothesis when the null is true (false alarm) 5% of the time\n",
    "num_tests = 10000\n",
    "results = np.zeros(num_tests)\n",
    "for i in range(num_tests):\n",
    "    x1 = np.random.randn(100)\n",
    "    x2 = np.random.randn(100)\n",
    "    z, p = ztest(x1, x2)\n",
    "    results[i] = (p < 0.05)\n",
    "print(results.mean())"
   ]
  },
  {
   "cell_type": "code",
   "execution_count": 66,
   "metadata": {},
   "outputs": [
    {
     "data": {
      "text/html": [
       "<div>\n",
       "<style scoped>\n",
       "    .dataframe tbody tr th:only-of-type {\n",
       "        vertical-align: middle;\n",
       "    }\n",
       "\n",
       "    .dataframe tbody tr th {\n",
       "        vertical-align: top;\n",
       "    }\n",
       "\n",
       "    .dataframe thead th {\n",
       "        text-align: right;\n",
       "    }\n",
       "</style>\n",
       "<table border=\"1\" class=\"dataframe\">\n",
       "  <thead>\n",
       "    <tr style=\"text-align: right;\">\n",
       "      <th></th>\n",
       "      <th>PassengerId</th>\n",
       "      <th>Survived</th>\n",
       "      <th>Pclass</th>\n",
       "      <th>Name</th>\n",
       "      <th>Sex</th>\n",
       "      <th>Age</th>\n",
       "      <th>SibSp</th>\n",
       "      <th>Parch</th>\n",
       "      <th>Ticket</th>\n",
       "      <th>Fare</th>\n",
       "      <th>Cabin</th>\n",
       "      <th>Embarked</th>\n",
       "    </tr>\n",
       "  </thead>\n",
       "  <tbody>\n",
       "    <tr>\n",
       "      <th>0</th>\n",
       "      <td>1</td>\n",
       "      <td>0</td>\n",
       "      <td>3</td>\n",
       "      <td>Braund, Mr. Owen Harris</td>\n",
       "      <td>male</td>\n",
       "      <td>22.0</td>\n",
       "      <td>1</td>\n",
       "      <td>0</td>\n",
       "      <td>A/5 21171</td>\n",
       "      <td>7.2500</td>\n",
       "      <td>NaN</td>\n",
       "      <td>S</td>\n",
       "    </tr>\n",
       "    <tr>\n",
       "      <th>1</th>\n",
       "      <td>2</td>\n",
       "      <td>1</td>\n",
       "      <td>1</td>\n",
       "      <td>Cumings, Mrs. John Bradley (Florence Briggs Th...</td>\n",
       "      <td>female</td>\n",
       "      <td>38.0</td>\n",
       "      <td>1</td>\n",
       "      <td>0</td>\n",
       "      <td>PC 17599</td>\n",
       "      <td>71.2833</td>\n",
       "      <td>C85</td>\n",
       "      <td>C</td>\n",
       "    </tr>\n",
       "    <tr>\n",
       "      <th>2</th>\n",
       "      <td>3</td>\n",
       "      <td>1</td>\n",
       "      <td>3</td>\n",
       "      <td>Heikkinen, Miss. Laina</td>\n",
       "      <td>female</td>\n",
       "      <td>26.0</td>\n",
       "      <td>0</td>\n",
       "      <td>0</td>\n",
       "      <td>STON/O2. 3101282</td>\n",
       "      <td>7.9250</td>\n",
       "      <td>NaN</td>\n",
       "      <td>S</td>\n",
       "    </tr>\n",
       "    <tr>\n",
       "      <th>3</th>\n",
       "      <td>4</td>\n",
       "      <td>1</td>\n",
       "      <td>1</td>\n",
       "      <td>Futrelle, Mrs. Jacques Heath (Lily May Peel)</td>\n",
       "      <td>female</td>\n",
       "      <td>35.0</td>\n",
       "      <td>1</td>\n",
       "      <td>0</td>\n",
       "      <td>113803</td>\n",
       "      <td>53.1000</td>\n",
       "      <td>C123</td>\n",
       "      <td>S</td>\n",
       "    </tr>\n",
       "    <tr>\n",
       "      <th>4</th>\n",
       "      <td>5</td>\n",
       "      <td>0</td>\n",
       "      <td>3</td>\n",
       "      <td>Allen, Mr. William Henry</td>\n",
       "      <td>male</td>\n",
       "      <td>35.0</td>\n",
       "      <td>0</td>\n",
       "      <td>0</td>\n",
       "      <td>373450</td>\n",
       "      <td>8.0500</td>\n",
       "      <td>NaN</td>\n",
       "      <td>S</td>\n",
       "    </tr>\n",
       "  </tbody>\n",
       "</table>\n",
       "</div>"
      ],
      "text/plain": [
       "   PassengerId  Survived  Pclass  ...     Fare Cabin  Embarked\n",
       "0            1         0       3  ...   7.2500   NaN         S\n",
       "1            2         1       1  ...  71.2833   C85         C\n",
       "2            3         1       3  ...   7.9250   NaN         S\n",
       "3            4         1       1  ...  53.1000  C123         S\n",
       "4            5         0       3  ...   8.0500   NaN         S\n",
       "\n",
       "[5 rows x 12 columns]"
      ]
     },
     "execution_count": 66,
     "metadata": {},
     "output_type": "execute_result"
    }
   ],
   "source": [
    "df = pd.read_csv('./titanic_train.csv')\n",
    "df.head()"
   ]
  },
  {
   "cell_type": "code",
   "execution_count": 68,
   "metadata": {},
   "outputs": [],
   "source": [
    "x1 = df[df['Survived'] == 1]['Fare'].dropna().to_numpy()\n",
    "x2 = df[df['Survived'] == 0]['Fare'].dropna().to_numpy()"
   ]
  },
  {
   "cell_type": "code",
   "execution_count": 73,
   "metadata": {},
   "outputs": [
    {
     "data": {
      "image/png": "[encoded data removed]",
      "text/plain": [
       "<Figure size 432x288 with 1 Axes>"
      ]
     },
     "metadata": {
      "needs_background": "light"
     },
     "output_type": "display_data"
    }
   ],
   "source": [
    "sns.kdeplot(x1, label='Survived')\n",
    "sns.kdeplot(x2, label='Did not survive')\n",
    "plt.legend();"
   ]
  },
  {
   "cell_type": "code",
   "execution_count": 74,
   "metadata": {},
   "outputs": [
    {
     "data": {
      "text/plain": [
       "(48.39540760233918, 22.117886885245902)"
      ]
     },
     "execution_count": 74,
     "metadata": {},
     "output_type": "execute_result"
    }
   ],
   "source": [
    "x1.mean(), x2.mean()"
   ]
  },
  {
   "cell_type": "code",
   "execution_count": 75,
   "metadata": {},
   "outputs": [
    {
     "data": {
      "text/plain": [
       "(7.939191660871055, 2.035031103573989e-15)"
      ]
     },
     "execution_count": 75,
     "metadata": {},
     "output_type": "execute_result"
    }
   ],
   "source": [
    "ztest(x1, x2)"
   ]
  },
  {
   "cell_type": "code",
   "execution_count": 77,
   "metadata": {},
   "outputs": [
    {
     "data": {
      "text/html": [
       "<div>\n",
       "<style scoped>\n",
       "    .dataframe tbody tr th:only-of-type {\n",
       "        vertical-align: middle;\n",
       "    }\n",
       "\n",
       "    .dataframe tbody tr th {\n",
       "        vertical-align: top;\n",
       "    }\n",
       "\n",
       "    .dataframe thead th {\n",
       "        text-align: right;\n",
       "    }\n",
       "</style>\n",
       "<table border=\"1\" class=\"dataframe\">\n",
       "  <thead>\n",
       "    <tr style=\"text-align: right;\">\n",
       "      <th></th>\n",
       "      <th>advertisement_id</th>\n",
       "      <th>action</th>\n",
       "    </tr>\n",
       "  </thead>\n",
       "  <tbody>\n",
       "    <tr>\n",
       "      <th>0</th>\n",
       "      <td>B</td>\n",
       "      <td>1</td>\n",
       "    </tr>\n",
       "    <tr>\n",
       "      <th>1</th>\n",
       "      <td>B</td>\n",
       "      <td>1</td>\n",
       "    </tr>\n",
       "    <tr>\n",
       "      <th>2</th>\n",
       "      <td>A</td>\n",
       "      <td>0</td>\n",
       "    </tr>\n",
       "    <tr>\n",
       "      <th>3</th>\n",
       "      <td>B</td>\n",
       "      <td>0</td>\n",
       "    </tr>\n",
       "    <tr>\n",
       "      <th>4</th>\n",
       "      <td>A</td>\n",
       "      <td>1</td>\n",
       "    </tr>\n",
       "  </tbody>\n",
       "</table>\n",
       "</div>"
      ],
      "text/plain": [
       "  advertisement_id  action\n",
       "0                B       1\n",
       "1                B       1\n",
       "2                A       0\n",
       "3                B       0\n",
       "4                A       1"
      ]
     },
     "execution_count": 77,
     "metadata": {},
     "output_type": "execute_result"
    }
   ],
   "source": [
    "df = pd.read_csv('./advertisement_clicks.csv')\n",
    "df.head()"
   ]
  },
  {
   "cell_type": "code",
   "execution_count": 84,
   "metadata": {},
   "outputs": [],
   "source": [
    "x1 = df[df['advertisement_id'] == 'A']\n",
    "x2 = df[df['advertisement_id'] == 'B']"
   ]
  },
  {
   "cell_type": "code",
   "execution_count": 86,
   "metadata": {},
   "outputs": [
    {
     "name": "stdout",
     "output_type": "stream",
     "text": [
      "0.304\n",
      "0.372\n"
     ]
    }
   ],
   "source": [
    "print(x1[x1['action'] == 1].shape[0]/x1.shape[0])\n",
    "print(x2[x2['action'] == 1].shape[0]/x2.shape[0])"
   ]
  },
  {
   "cell_type": "markdown",
   "metadata": {},
   "source": [
    "Can use normal distribution to approximate? or we need to approximate differently?"
   ]
  },
  {
   "cell_type": "markdown",
   "metadata": {},
   "source": [
    "## Bayesian Testing\n",
    "\n",
    "### Explore-Exploit Dilemma\n",
    "\n",
    "* exploration (collect data) (we should reach defined sample size)\n",
    "* select choice with highest win rate (exploitation) (we should maximize the win)\n",
    "* They are against each other so a dilemma\n",
    "* methods and Algorithms to solve this dilemma and find the balance:\n",
    "    * Epsilon-greedy\n",
    "    * Optimistic Initial Values\n",
    "    * UCB1 (Upper Confidence Bound)\n",
    "    * Thompson Sampling(Bayesian Bandit)\n",
    "* Application of explore-exploit\n",
    "    * Comparing things: e.g. CTR\n",
    "\n",
    "### Epsilon-Greedy Theory\n",
    "\n",
    "* Choosing best MLE (maximum likelihood estimation) of win rate does not work (a.k.a the **greedy** method: picking the bandit with the highest MLE win rate with no regard to confidence in prediction or amount of data collected)\n",
    "* Epsilon-greedy idea: have a small probability epsilon ($\\epsilon$) of doing sth random (non-greedy), typically around 5 - 10 %\n",
    "* The purpose of exploration (with nonzero epsilon) is we can collect data about each bandit\n",
    "* When do we have enought data instead of explore forever?\n",
    "    * We can apply decay function to $\\epsilon$) so it reduce through time\n",
    "    \n",
    "    $$E(R) = (1 - \\epsilon)p1 + \\epsilon(\\frac{p1 + p2}{2})$$\n",
    "    decay epsilon examples:\n",
    "    $$\\epsilon(t) = \\epsilon_0\\alpha^t$$ \n",
    "    or\n",
    "    $$\\epsilon(t) = \\frac{a}{log(bt+c)}$$ \n",
    "\n",
    "### Interatively update the sample mean\n",
    "\n",
    "* Calculate $\\bar{X}_N$ using $\\bar{X}_{N-1}$\n",
    "\n",
    "    $$\\bar{X}_{N} = \\bar{X}_{N-1} + \\frac{1}{N}(X_{N} - \\bar{X}_{N-1})$$\n",
    "\n",
    "\n",
    "### Bandit Program Template\n",
    "\n",
    "All bandit program follows the same steps as the following\n",
    "\n",
    "```python\n",
    "class mySlotMachine:\n",
    "    def pull():\n",
    "        # simulate drawing from the true distribution\n",
    "\n",
    "def experiment():\n",
    "    for t in range(iterations):\n",
    "        # pick a slotMachine to play\n",
    "        # update algorithm parameters\n",
    "\n",
    "def results():\n",
    "    # plot useful infor (reward, best machine, etc)\n",
    "```\n",
    "\n"
   ]
  },
  {
   "cell_type": "code",
   "execution_count": 104,
   "metadata": {},
   "outputs": [
    {
     "name": "stdout",
     "output_type": "stream",
     "text": [
      "optimal j: 2\n",
      "mean estimate: 0.16257668711656434\n",
      "mean estimate: 0.4604904632152589\n",
      "mean estimate: 0.7396583216933486\n",
      "Total reward earned: 7106.0\n",
      "Overall win rate: 0.7106\n",
      "num of time explored: 1021\n",
      "num of time exploited: 8979\n",
      "num of time select optimal bandit: 9307\n"
     ]
    },
    {
     "data": {
      "image/png": "[encoded data removed]",
      "text/plain": [
       "<Figure size 432x288 with 1 Axes>"
      ]
     },
     "metadata": {
      "needs_background": "light"
     },
     "output_type": "display_data"
    }
   ],
   "source": [
    "# Epsilon-Greedy\n",
    "# Draw random from uniformed distribution\n",
    "\n",
    "NUM_TRIALS = 10000\n",
    "EPS = 0.1\n",
    "BANDIT_PROBABILITIES = [0.2, 0.5, 0.75]\n",
    "\n",
    "class Bandit:\n",
    "    def __init__(self, p):\n",
    "        self.p = p #trun win rate of the bandit\n",
    "        self.p_estimate = 0 # estimated current win rate\n",
    "        self.N = 0 #num of sample collected so far\n",
    "        \n",
    "    def pull(self):\n",
    "        # draw a 1 with probability p\n",
    "        return np.random.random() < self.p\n",
    "    \n",
    "    def update(self, x):\n",
    "        self.N += 1\n",
    "        self.p_estimate = ((self.N - 1) * self.p_estimate + x)/self.N\n",
    "        \n",
    "def experiment():\n",
    "    bandits = [Bandit(p) for p in BANDIT_PROBABILITIES]\n",
    "    rewards = np.zeros(NUM_TRIALS)\n",
    "    num_times_explored = 0\n",
    "    num_times_exploited = 0\n",
    "    num_optimal = 0\n",
    "    optimal_j = np.argmax([b.p for b in bandits])\n",
    "    print(\"optimal j:\", optimal_j)\n",
    "    \n",
    "    for i in range(NUM_TRIALS):\n",
    "        \n",
    "        # use pesilon-greed to select the next bandit\n",
    "        if np.random.random() < EPS:\n",
    "            num_times_explored += 1\n",
    "            j = np.random.randint(len(bandits))\n",
    "        else:\n",
    "            num_times_exploited += 1\n",
    "            j = np.argmax([b.p_estimate for b in bandits])\n",
    "        \n",
    "        if j == optimal_j:\n",
    "            num_optimal += 1\n",
    "        \n",
    "        # pull the arm for the bandit with the largest sample\n",
    "        x = bandits[j].pull()\n",
    "        \n",
    "        # update rewards log\n",
    "        rewards[i] = x\n",
    "        \n",
    "        # update the distrbution for the bandit whose arm we just pulled\n",
    "        bandits[j].update(x)\n",
    "    \n",
    "    for b in bandits:\n",
    "        print(f\"mean estimate: {b.p_estimate}\")\n",
    "    \n",
    "    # print total reward\n",
    "    print(f\"Total reward earned: {rewards.sum()}\")\n",
    "    print(f\"Overall win rate: {rewards.sum()/NUM_TRIALS}\")\n",
    "    print(f\"num of time explored: {num_times_explored}\")\n",
    "    print(f\"num of time exploited: {num_times_exploited}\")\n",
    "    print(f\"num of time select optimal bandit: {num_optimal}\")\n",
    "    \n",
    "    # plot results\n",
    "    cumulative_rewards = np.cumsum(rewards)\n",
    "    win_rate = cumulative_rewards / (np.arange(NUM_TRIALS) + 1)\n",
    "    plt.plot(win_rate)\n",
    "    plt.plot(np.ones(NUM_TRIALS)*np.max(BANDIT_PROBABILITIES))\n",
    "    plt.show()\n",
    "\n",
    "if __name__ == \"__main__\":\n",
    "    experiment()"
   ]
  },
  {
   "cell_type": "code",
   "execution_count": 110,
   "metadata": {},
   "outputs": [
    {
     "name": "stdout",
     "output_type": "stream",
     "text": [
      "optimal j: 2\n",
      "mean estimate: 0.18292682926829273\n",
      "mean estimate: 0.49136786188579035\n",
      "mean estimate: 0.7498598497589405\n",
      "Total reward earned: 7118.0\n",
      "Overall win rate: 0.7118\n",
      "num of time explored: 937\n",
      "num of time exploited: 9063\n",
      "num of time select optimal bandit: 8919\n"
     ]
    },
    {
     "data": {
      "image/png": "[encoded data removed]",
      "text/plain": [
       "<Figure size 432x288 with 1 Axes>"
      ]
     },
     "metadata": {
      "needs_background": "light"
     },
     "output_type": "display_data"
    },
    {
     "data": {
      "image/png": "[encoded data removed]",
      "text/plain": [
       "<Figure size 432x288 with 1 Axes>"
      ]
     },
     "metadata": {
      "needs_background": "light"
     },
     "output_type": "display_data"
    },
    {
     "name": "stdout",
     "output_type": "stream",
     "text": [
      "1.4946280376548724\n",
      "2.4971870267479197\n",
      "3.497592945409878\n",
      "percent suboptimal for epsilon = 0.1: 0.06597\n"
     ]
    },
    {
     "data": {
      "image/png": "[encoded data removed]",
      "text/plain": [
       "<Figure size 432x288 with 1 Axes>"
      ]
     },
     "metadata": {
      "needs_background": "light"
     },
     "output_type": "display_data"
    },
    {
     "name": "stdout",
     "output_type": "stream",
     "text": [
      "1.5565076888949962\n",
      "2.5406574050627104\n",
      "3.5047552829678854\n",
      "percent suboptimal for epsilon = 0.05: 0.03398\n"
     ]
    },
    {
     "data": {
      "image/png": "[encoded data removed]",
      "text/plain": [
       "<Figure size 432x288 with 1 Axes>"
      ]
     },
     "metadata": {
      "needs_background": "light"
     },
     "output_type": "display_data"
    },
    {
     "name": "stdout",
     "output_type": "stream",
     "text": [
      "1.5307638374617447\n",
      "2.4524634774557157\n",
      "3.499450345313223\n",
      "percent suboptimal for epsilon = 0.01: 0.00844\n"
     ]
    },
    {
     "data": {
      "image/png": "[encoded data removed]",
      "text/plain": [
       "<Figure size 432x288 with 1 Axes>"
      ]
     },
     "metadata": {
      "needs_background": "light"
     },
     "output_type": "display_data"
    }
   ],
   "source": [
    "# Epsilon-Greedy V1\n",
    "# Draw random from Gaussian distribution\n",
    "\n",
    "\n",
    "class BanditArm:\n",
    "    def __init__(self, m):\n",
    "        self.m = m \n",
    "        self.m_estimate = 0 \n",
    "        self.N = 0 \n",
    "        \n",
    "    def pull(self):\n",
    "        return np.random.randn()+self.m\n",
    "    \n",
    "    def update(self, x):\n",
    "        self.N += 1\n",
    "        self.m_estimate = (1 - 1.0/self.N)*self.m_estimate + 1.0/self.N*x\n",
    "        \n",
    "def run_experiment(m1, m2, m3, eps, N):\n",
    "    bandits = [BanditArm(m1), BanditArm(m2), BanditArm(m3)]\n",
    "    \n",
    "    # count number of suboptimal choices\n",
    "    means = np.array([m1, m2, m3])\n",
    "    true_best = np.argmax(means)\n",
    "    data = np.empty(N)\n",
    "    count_suboptimal = 0\n",
    "    \n",
    "    for i in range(N):\n",
    "        \n",
    "        # epsilon greedy\n",
    "        p = np.random.random() # prior\n",
    "        if p < eps:\n",
    "            j = np.random.choice(len(bandits))\n",
    "        else:\n",
    "            j = np.argmax([b.m_estimate for b in bandits])\n",
    "        \n",
    "        x = bandits[j].pull()\n",
    "        bandits[j].update(x)\n",
    "        \n",
    "        if j != true_best:\n",
    "            count_suboptimal += 1\n",
    "        data[i] = x\n",
    "    cumulative_average = np.cumsum(data) / (np.arange(N) + 1)\n",
    "    plt.plot(cumulative_average)\n",
    "    plt.plot(np.ones(N)*m1)\n",
    "    plt.plot(np.ones(N)*m2)\n",
    "    plt.plot(np.ones(N)*m3)\n",
    "    plt.xscale('log')\n",
    "    plt.show()\n",
    "\n",
    "    for b in bandits:\n",
    "        print(b.m_estimate)\n",
    "    print(\"percent suboptimal for epsilon = %s:\" % eps, float(count_suboptimal) / N)\n",
    "\n",
    "    return cumulative_average\n",
    "if __name__ == \"__main__\":\n",
    "    experiment()\n",
    "    m1, m2, m3 = 1.5, 2.5, 3.5\n",
    "    c_1 = run_experiment(m1, m2, m3, 0.1, 100000)\n",
    "    c_05 = run_experiment(m1, m2, m3, 0.05, 100000)\n",
    "    c_01 = run_experiment(m1, m2, m3, 0.01, 100000)\n",
    "\n",
    "    # log scale plot\n",
    "    plt.plot(c_1, label='eps = 0.1')\n",
    "    plt.plot(c_05, label='eps = 0.05')\n",
    "    plt.plot(c_01, label='eps = 0.01')\n",
    "    plt.legend()\n",
    "    plt.xscale('log')\n",
    "    plt.show()"
   ]
  },
  {
   "cell_type": "markdown",
   "metadata": {},
   "source": [
    "### Optimistic Initial Values\n",
    "\n",
    "* Simple modification of purely greedy method\n",
    "* No need for epsilon /random exploration\n",
    "* Approach:\n",
    "    * Initialize mean to very large final value (we start with by overestimate the sample mean)\n",
    "    * Be Greedy\n",
    "    * choose bandit with the lagest estimated mean\n",
    "    * Why this will Balance exploration (collect data) and explortation?\n",
    "        * Early in experiment: less data, estimated mean is large since initial value is large\n",
    "        * Later in experiment: lost of data, mean continue to get smaller until we stop choosing the bandit or it converges\n",
    "    * We get arithmetic average even if initial value is very large\n",
    "* Since it is always greety, this approach does not garanteen we fine the optimal true mean\n",
    "* Setting the initial value\n",
    "    * Higher initial value means more exploration (it is a Hyperparameter)"
   ]
  },
  {
   "cell_type": "code",
   "execution_count": 3,
   "metadata": {},
   "outputs": [
    {
     "name": "stdout",
     "output_type": "stream",
     "text": [
      "mean estimate: 0.7\n",
      "mean estimate: 0.7272727272727273\n",
      "mean estimate: 0.751980744158057\n",
      "total reward earned: 7506.0\n",
      "overall win rate: 0.7506\n",
      "num times selected each bandit: [10.0, 22.0, 9971.0]\n"
     ]
    },
    {
     "data": {
      "image/png": "[encoded data removed]",
      "text/plain": [
       "<Figure size 432x288 with 1 Axes>"
      ]
     },
     "metadata": {
      "needs_background": "light"
     },
     "output_type": "display_data"
    }
   ],
   "source": [
    "from __future__ import print_function, division\n",
    "from builtins import range\n",
    "\n",
    "\n",
    "import matplotlib.pyplot as plt\n",
    "import numpy as np\n",
    "\n",
    "\n",
    "NUM_TRIALS = 10000\n",
    "EPS = 0.1\n",
    "BANDIT_PROBABILITIES = [0.2, 0.5, 0.75]\n",
    "\n",
    "\n",
    "class Bandit:\n",
    "    def __init__(self, p):\n",
    "        # p: the win rate\n",
    "        self.p = p\n",
    "        self.p_estimate = 5. #overestimate\n",
    "        self.N = 1. #so the initial value is included in the update() calculation\n",
    "\n",
    "    def pull(self):\n",
    "        return np.random.random() < self.p\n",
    "\n",
    "    def update(self, x):\n",
    "        self.N += 1\n",
    "        self.p_estimate = ((self.N - 1) * self.p_estimate + x)/self.N\n",
    "        \n",
    "\n",
    "def experiment():\n",
    "    bandits = [Bandit(p) for p in BANDIT_PROBABILITIES]\n",
    "\n",
    "    rewards = np.zeros(NUM_TRIALS)\n",
    "    for i in range(NUM_TRIALS):\n",
    "        # use optimistic initial values to select the next bandit\n",
    "        j = np.argmax([b.p_estimate for b in bandits])\n",
    "\n",
    "        # pull the arm for the bandit with the largest sample\n",
    "        x = bandits[j].pull()\n",
    "\n",
    "        # update rewards log\n",
    "        rewards[i] = x\n",
    "\n",
    "        # update the distribution for the bandit whose arm we just pulled\n",
    "        bandits[j].update(x)\n",
    "\n",
    "\n",
    "    # print mean estimates for each bandit\n",
    "    for b in bandits:\n",
    "        print(\"mean estimate:\", b.p_estimate)\n",
    "\n",
    "    # print total reward\n",
    "    print(\"total reward earned:\", rewards.sum())\n",
    "    print(\"overall win rate:\", rewards.sum() / NUM_TRIALS)\n",
    "    print(\"num times selected each bandit:\", [b.N for b in bandits])\n",
    "\n",
    "    # plot the results\n",
    "    cumulative_rewards = np.cumsum(rewards)\n",
    "    win_rates = cumulative_rewards / (np.arange(NUM_TRIALS) + 1)\n",
    "    plt.ylim([0, 1])\n",
    "    plt.plot(win_rates)\n",
    "    plt.plot(np.ones(NUM_TRIALS)*np.max(BANDIT_PROBABILITIES))\n",
    "    plt.show()\n",
    "\n",
    "if __name__ == \"__main__\":\n",
    "    experiment()"
   ]
  },
  {
   "cell_type": "markdown",
   "metadata": {},
   "source": [
    "### UCB1"
   ]
  },
  {
   "cell_type": "code",
   "execution_count": null,
   "metadata": {},
   "outputs": [],
   "source": []
  }
 ],
 "metadata": {
  "kernelspec": {
   "display_name": "Python 3 (ipykernel)",
   "language": "python",
   "name": "python3"
  },
  "language_info": {
   "codemirror_mode": {
    "name": "ipython",
    "version": 3
   },
   "file_extension": ".py",
   "mimetype": "text/x-python",
   "name": "python",
   "nbconvert_exporter": "python",
   "pygments_lexer": "ipython3",
   "version": "3.8.5"
  },
  "toc": {
   "base_numbering": 1,
   "nav_menu": {},
   "number_sections": true,
   "sideBar": true,
   "skip_h1_title": false,
   "title_cell": "Table of Contents",
   "title_sidebar": "Contents",
   "toc_cell": false,
   "toc_position": {},
   "toc_section_display": true,
   "toc_window_display": false
  }
 },
 "nbformat": 4,
 "nbformat_minor": 4
}
